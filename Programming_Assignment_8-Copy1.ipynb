{
 "cells": [
  {
   "cell_type": "markdown",
   "id": "cca7514d",
   "metadata": {},
   "source": [
    "1. Write a Python Program to Add Two Matrices?"
   ]
  },
  {
   "cell_type": "code",
   "execution_count": 1,
   "id": "04847ae6",
   "metadata": {},
   "outputs": [
    {
     "name": "stdout",
     "output_type": "stream",
     "text": [
      "[17, 15, 4]\n",
      "[10, 12, 9]\n",
      "[11, 13, 18]\n"
     ]
    }
   ],
   "source": [
    "X = [[12,7,3],\n",
    "    [4 ,5,6],\n",
    "    [7 ,8,9]]\n",
    "\n",
    "Y = [[5,8,1],\n",
    "    [6,7,3],\n",
    "    [4,5,9]]\n",
    "\n",
    "result = [[0,0,0],\n",
    "         [0,0,0],\n",
    "         [0,0,0]]\n",
    "\n",
    "# iterate through rows\n",
    "for i in range(len(X)):\n",
    "   # iterate through columns\n",
    "   for j in range(len(X[0])):\n",
    "       result[i][j] = X[i][j] + Y[i][j]\n",
    "\n",
    "for r in result:\n",
    "   print(r)"
   ]
  },
  {
   "cell_type": "markdown",
   "id": "0ba631ce",
   "metadata": {},
   "source": [
    "2. Write a Python Program to Multiply Two Matrices?"
   ]
  },
  {
   "cell_type": "code",
   "execution_count": 2,
   "id": "75bc2078",
   "metadata": {},
   "outputs": [
    {
     "name": "stdout",
     "output_type": "stream",
     "text": [
      "[114, 160, 60, 27]\n",
      "[74, 97, 73, 14]\n",
      "[119, 157, 112, 23]\n"
     ]
    }
   ],
   "source": [
    "X = [[12,7,3],\n",
    "    [4 ,5,6],\n",
    "    [7 ,8,9]]\n",
    "# 3x4 matrix\n",
    "Y = [[5,8,1,2],\n",
    "    [6,7,3,0],\n",
    "    [4,5,9,1]]\n",
    "# result is 3x4\n",
    "result = [[0,0,0,0],\n",
    "         [0,0,0,0],\n",
    "         [0,0,0,0]]\n",
    "\n",
    "# iterate through rows of X\n",
    "for i in range(len(X)):\n",
    "   # iterate through columns of Y\n",
    "   for j in range(len(Y[0])):\n",
    "       # iterate through rows of Y\n",
    "       for k in range(len(Y)):\n",
    "           result[i][j] += X[i][k] * Y[k][j]\n",
    "\n",
    "for r in result:\n",
    "   print(r)"
   ]
  },
  {
   "cell_type": "markdown",
   "id": "1539fe79",
   "metadata": {},
   "source": [
    "3. Write a Python Program to Transpose a Matrix?"
   ]
  },
  {
   "cell_type": "code",
   "execution_count": 3,
   "id": "9e52d8b1",
   "metadata": {},
   "outputs": [
    {
     "name": "stdout",
     "output_type": "stream",
     "text": [
      "[12, 4, 3]\n",
      "[7, 5, 8]\n"
     ]
    }
   ],
   "source": [
    " X = [[12,7],\n",
    "    [4 ,5],\n",
    "    [3 ,8]]\n",
    "\n",
    "result = [[0,0,0],\n",
    "         [0,0,0]]\n",
    "\n",
    "# iterate through rows\n",
    "for i in range(len(X)):\n",
    "   # iterate through columns\n",
    "   for j in range(len(X[0])):\n",
    "       result[j][i] = X[i][j]\n",
    "\n",
    "for r in result:\n",
    "   print(r)"
   ]
  },
  {
   "cell_type": "markdown",
   "id": "bc5a8572",
   "metadata": {},
   "source": [
    "4. Write a Python Program to Sort Words in Alphabetic Order?"
   ]
  },
  {
   "cell_type": "code",
   "execution_count": 4,
   "id": "52577801",
   "metadata": {},
   "outputs": [
    {
     "name": "stdout",
     "output_type": "stream",
     "text": [
      "The sorted words are:\n",
      "an\n",
      "cased\n",
      "example\n",
      "hello\n",
      "is\n",
      "letters\n",
      "this\n",
      "with\n"
     ]
    }
   ],
   "source": [
    "my_str = \"Hello this Is an Example With cased letters\"\n",
    "\n",
    "# breakdown the string into a list of words\n",
    "words = [word.lower() for word in my_str.split()]\n",
    "\n",
    "# sort the list\n",
    "words.sort()\n",
    "\n",
    "# display the sorted words\n",
    "\n",
    "print(\"The sorted words are:\")\n",
    "for word in words:\n",
    "   print(word)"
   ]
  },
  {
   "cell_type": "markdown",
   "id": "1c2a41bd",
   "metadata": {},
   "source": [
    "5. Write a Python Program to Remove Punctuation From a String?"
   ]
  },
  {
   "cell_type": "code",
   "execution_count": 5,
   "id": "9b76298f",
   "metadata": {},
   "outputs": [
    {
     "name": "stdout",
     "output_type": "stream",
     "text": [
      "Hello he said and went\n"
     ]
    }
   ],
   "source": [
    "punctuations = '''!()-[]{};:'\"\\,<>./?@#$%^&*_~'''\n",
    "\n",
    "my_str = \"Hello!!!, he said ---and went.\"\n",
    "\n",
    "# remove punctuation from the string\n",
    "no_punct = \"\"\n",
    "for char in my_str:\n",
    "   if char not in punctuations:\n",
    "       no_punct = no_punct + char\n",
    "\n",
    "# display the unpunctuated string\n",
    "print(no_punct)"
   ]
  },
  {
   "cell_type": "code",
   "execution_count": null,
   "id": "7d7824c9",
   "metadata": {},
   "outputs": [],
   "source": []
  }
 ],
 "metadata": {
  "kernelspec": {
   "display_name": "Python 3 (ipykernel)",
   "language": "python",
   "name": "python3"
  },
  "language_info": {
   "codemirror_mode": {
    "name": "ipython",
    "version": 3
   },
   "file_extension": ".py",
   "mimetype": "text/x-python",
   "name": "python",
   "nbconvert_exporter": "python",
   "pygments_lexer": "ipython3",
   "version": "3.9.7"
  }
 },
 "nbformat": 4,
 "nbformat_minor": 5
}
