{
 "cells": [
  {
   "cell_type": "markdown",
   "id": "629e4961",
   "metadata": {},
   "source": [
    "1. Write a Python program to convert kilometers to miles?"
   ]
  },
  {
   "cell_type": "code",
   "execution_count": 5,
   "id": "f72b4888",
   "metadata": {},
   "outputs": [
    {
     "name": "stdout",
     "output_type": "stream",
     "text": [
      "Enter values in km 75\n",
      "75.0 km is equal to 46.602825 miles\n"
     ]
    }
   ],
   "source": [
    "km=float(input(\"Enter values in km \"))\n",
    "\n",
    "miles=km * 0.621371\n",
    "\n",
    "print(\"{} km is equal to {} miles\".format (km, miles))"
   ]
  },
  {
   "cell_type": "markdown",
   "id": "5876c879",
   "metadata": {},
   "source": [
    "2.Write a Python program to convert Celsius to Fahrenheit?"
   ]
  },
  {
   "cell_type": "code",
   "execution_count": 6,
   "id": "a03f086d",
   "metadata": {},
   "outputs": [
    {
     "name": "stdout",
     "output_type": "stream",
     "text": [
      "Enter value in celsius 56.6\n",
      "56.6 Celsius is equal to 133.88 Fahrenheit\n"
     ]
    }
   ],
   "source": [
    "cel=float(input(\"Enter value in celsius \"))\n",
    "\n",
    "fah = (cel * 1.8) + 32\n",
    "\n",
    "print(\"{} Celsius is equal to {} Fahrenheit\".format(cel,fah))"
   ]
  },
  {
   "cell_type": "markdown",
   "id": "05969626",
   "metadata": {},
   "source": [
    "3. Write a Python program to display calendar?"
   ]
  },
  {
   "cell_type": "code",
   "execution_count": 8,
   "id": "2416a14b",
   "metadata": {},
   "outputs": [
    {
     "name": "stdout",
     "output_type": "stream",
     "text": [
      "Enter a Year 2022\n",
      "Enter a month 3\n",
      "     March 2022\n",
      "Mo Tu We Th Fr Sa Su\n",
      "    1  2  3  4  5  6\n",
      " 7  8  9 10 11 12 13\n",
      "14 15 16 17 18 19 20\n",
      "21 22 23 24 25 26 27\n",
      "28 29 30 31\n",
      "\n"
     ]
    }
   ],
   "source": [
    "import calendar\n",
    "\n",
    "yy = int(input(\"Enter a Year \"))\n",
    "mm = int(input(\"Enter a month \"))\n",
    "\n",
    "print(calendar.month(yy,mm))\n"
   ]
  },
  {
   "cell_type": "markdown",
   "id": "aaf21d25",
   "metadata": {},
   "source": [
    "4. Write a Python program to solve quadratic equation?"
   ]
  },
  {
   "cell_type": "code",
   "execution_count": 12,
   "id": "5e0e37cd",
   "metadata": {},
   "outputs": [
    {
     "name": "stdout",
     "output_type": "stream",
     "text": [
      "(-1.25+1.1989578808281798j) (-1.25-1.1989578808281798j)\n"
     ]
    }
   ],
   "source": [
    "import cmath\n",
    "\n",
    "a = 2\n",
    "b = 5\n",
    "c = 6\n",
    "\n",
    "d=(b**2)-(4*a*c)\n",
    "\n",
    "sol1 = (-b + cmath.sqrt(d))/(2*a)\n",
    "sol2 = (-b - cmath.sqrt(d))/(2*a)\n",
    "\n",
    "print(sol1,sol2)"
   ]
  },
  {
   "cell_type": "markdown",
   "id": "5f99674d",
   "metadata": {},
   "source": [
    "5. Write a Python program to swap two variables without temp variable?"
   ]
  },
  {
   "cell_type": "code",
   "execution_count": 14,
   "id": "f74d3dd9",
   "metadata": {},
   "outputs": [
    {
     "name": "stdout",
     "output_type": "stream",
     "text": [
      "x =  10\n",
      "y =  5\n"
     ]
    }
   ],
   "source": [
    "x = 5\n",
    "y = 10\n",
    "\n",
    "x,y = y,x\n",
    "\n",
    "print(\"x = \",x)\n",
    "print(\"y = \",y)"
   ]
  },
  {
   "cell_type": "code",
   "execution_count": null,
   "id": "d06f0cbc",
   "metadata": {},
   "outputs": [],
   "source": []
  },
  {
   "cell_type": "code",
   "execution_count": null,
   "id": "4a90aa15",
   "metadata": {},
   "outputs": [],
   "source": []
  },
  {
   "cell_type": "code",
   "execution_count": null,
   "id": "01e20c0d",
   "metadata": {},
   "outputs": [],
   "source": []
  },
  {
   "cell_type": "code",
   "execution_count": null,
   "id": "0f314cfa",
   "metadata": {},
   "outputs": [],
   "source": []
  },
  {
   "cell_type": "code",
   "execution_count": null,
   "id": "f412985f",
   "metadata": {},
   "outputs": [],
   "source": []
  },
  {
   "cell_type": "code",
   "execution_count": null,
   "id": "1eb99536",
   "metadata": {},
   "outputs": [],
   "source": []
  },
  {
   "cell_type": "code",
   "execution_count": null,
   "id": "146ddc35",
   "metadata": {},
   "outputs": [],
   "source": []
  }
 ],
 "metadata": {
  "kernelspec": {
   "display_name": "Python 3 (ipykernel)",
   "language": "python",
   "name": "python3"
  },
  "language_info": {
   "codemirror_mode": {
    "name": "ipython",
    "version": 3
   },
   "file_extension": ".py",
   "mimetype": "text/x-python",
   "name": "python",
   "nbconvert_exporter": "python",
   "pygments_lexer": "ipython3",
   "version": "3.9.7"
  }
 },
 "nbformat": 4,
 "nbformat_minor": 5
}
