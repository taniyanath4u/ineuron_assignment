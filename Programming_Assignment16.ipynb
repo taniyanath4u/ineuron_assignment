{
 "cells": [
  {
   "cell_type": "markdown",
   "id": "76a447d2",
   "metadata": {},
   "source": [
    "### Question1.\n",
    "Write a function that stutters a word as if someone is struggling to read it. The\n",
    "first two letters are repeated twice with an ellipsis ... and space after each, and then the\n",
    "word is pronounced with a question mark ?."
   ]
  },
  {
   "cell_type": "code",
   "execution_count": 1,
   "id": "cec290c5",
   "metadata": {},
   "outputs": [
    {
     "name": "stdout",
     "output_type": "stream",
     "text": [
      "in... in... incredible?\n"
     ]
    }
   ],
   "source": [
    "def stutter(word):\n",
    "    s = word[:2]\n",
    "    return (2 * (s + '... ')) + word + '?'\n",
    "\n",
    "\n",
    "print(stutter(\"incredible\"))"
   ]
  },
  {
   "cell_type": "markdown",
   "id": "6374ff60",
   "metadata": {},
   "source": [
    "### Question 2.\n",
    "Create a function that takes an angle in radians and returns the corresponding\n",
    "angle in degrees rounded to one decimal place."
   ]
  },
  {
   "cell_type": "code",
   "execution_count": 6,
   "id": "a85fadb7",
   "metadata": {},
   "outputs": [
    {
     "name": "stdout",
     "output_type": "stream",
     "text": [
      "Input radians: 1\n",
      "57.3\n"
     ]
    }
   ],
   "source": [
    "pi=22/7\n",
    "radian = float(input(\"Input radians: \"))\n",
    "degree = radian*(180/pi)\n",
    "print(\"{:.1f}\".format(degree))"
   ]
  },
  {
   "cell_type": "markdown",
   "id": "8dc587f1",
   "metadata": {},
   "source": [
    "### Question 3. \n",
    "In this challenge, establish if a given integer num is a Curzon number. If 1 plus\n",
    "2 elevated to num is exactly divisible by 1 plus 2 multiplied by num, then num is a Curzon\n",
    "number.\n",
    "Given a non-negative integer num, implement a function that returns True if num is a Curzon\n",
    "number, or False otherwise."
   ]
  },
  {
   "cell_type": "code",
   "execution_count": 10,
   "id": "70dbe267",
   "metadata": {},
   "outputs": [
    {
     "name": "stdout",
     "output_type": "stream",
     "text": [
      "Yes\n",
      "No\n"
     ]
    }
   ],
   "source": [
    "def checkIfCurzonNumber(N):\n",
    " \n",
    "    powerTerm, productTerm = 0, 0\n",
    " \n",
    "    # Find 2^N + 1\n",
    "    powerTerm = pow(2, N) + 1\n",
    " \n",
    "    # Find 2*N + 1\n",
    "    productTerm = 2 * N + 1\n",
    " \n",
    "    if (powerTerm % productTerm == 0):\n",
    "        print(\"Yes\")\n",
    "    else:\n",
    "        print(\"No\")\n",
    "\n",
    "if __name__ == '__main__':\n",
    "     \n",
    "    N = 5\n",
    "    checkIfCurzonNumber(N)\n",
    " \n",
    "    N = 10\n",
    "    checkIfCurzonNumber(N)"
   ]
  },
  {
   "cell_type": "markdown",
   "id": "df6d5c83",
   "metadata": {},
   "source": [
    "### Question 4.\n",
    "Given the side length x find the area of a hexagon."
   ]
  },
  {
   "cell_type": "code",
   "execution_count": 13,
   "id": "dd96a4dc",
   "metadata": {},
   "outputs": [
    {
     "name": "stdout",
     "output_type": "stream",
     "text": [
      "Area: 23.3827\n"
     ]
    }
   ],
   "source": [
    "import math\n",
    "  \n",
    "def hexagonArea(s):\n",
    "      \n",
    "    return ((3 * math.sqrt(3) * \n",
    "            (s * s)) / 2); \n",
    "          \n",
    "if __name__ == \"__main__\" : \n",
    "  \n",
    "    # length of a side. \n",
    "    s = 3\n",
    "  \n",
    "    print(\"Area:\",\"{0:.4f}\" . format(hexagonArea(s)))"
   ]
  },
  {
   "cell_type": "markdown",
   "id": "1739383e",
   "metadata": {},
   "source": [
    "### Question 5. \n",
    "Create a function that returns a base-2 (binary) representation of a base-10\n",
    "(decimal) string number."
   ]
  },
  {
   "cell_type": "code",
   "execution_count": 16,
   "id": "85bf6d54",
   "metadata": {},
   "outputs": [
    {
     "name": "stdout",
     "output_type": "stream",
     "text": [
      "1010"
     ]
    }
   ],
   "source": [
    "def decToBinary(n):\n",
    "     \n",
    "    # array to store\n",
    "    # binary number\n",
    "    binaryNum = [0] * n;\n",
    " \n",
    "    # counter for binary array\n",
    "    i = 0;\n",
    "    while (n > 0):\n",
    " \n",
    "        # storing remainder\n",
    "        # in binary array\n",
    "        binaryNum[i] = n % 2;\n",
    "        n = int(n / 2);\n",
    "        i += 1;\n",
    " \n",
    "    # printing binary array\n",
    "    # in reverse order\n",
    "    for j in range(i - 1, -1, -1):\n",
    "        print(binaryNum[j], end = \"\");\n",
    " \n",
    "# Driver Code\n",
    "n = 10;\n",
    "decToBinary(n);"
   ]
  },
  {
   "cell_type": "code",
   "execution_count": null,
   "id": "8d352d8f",
   "metadata": {},
   "outputs": [],
   "source": []
  }
 ],
 "metadata": {
  "kernelspec": {
   "display_name": "Python 3 (ipykernel)",
   "language": "python",
   "name": "python3"
  },
  "language_info": {
   "codemirror_mode": {
    "name": "ipython",
    "version": 3
   },
   "file_extension": ".py",
   "mimetype": "text/x-python",
   "name": "python",
   "nbconvert_exporter": "python",
   "pygments_lexer": "ipython3",
   "version": "3.9.7"
  }
 },
 "nbformat": 4,
 "nbformat_minor": 5
}
