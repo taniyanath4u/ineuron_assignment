{
 "cells": [
  {
   "cell_type": "markdown",
   "id": "9414aeb0",
   "metadata": {},
   "source": [
    "1.\tWrite a Python program to print \"Hello Python\"?"
   ]
  },
  {
   "cell_type": "code",
   "execution_count": 16,
   "id": "705d964d",
   "metadata": {},
   "outputs": [
    {
     "data": {
      "text/plain": [
       "'Hello Python'"
      ]
     },
     "execution_count": 16,
     "metadata": {},
     "output_type": "execute_result"
    }
   ],
   "source": [
    "a= \"Hello Python\"\n",
    "a"
   ]
  },
  {
   "cell_type": "markdown",
   "id": "1f3dc36f",
   "metadata": {},
   "source": [
    "2.\tWrite a Python program to do arithmetical operations addition and division.?"
   ]
  },
  {
   "cell_type": "code",
   "execution_count": 4,
   "id": "bc846328",
   "metadata": {},
   "outputs": [],
   "source": [
    "a=5+2\n",
    "b=10/2"
   ]
  },
  {
   "cell_type": "code",
   "execution_count": 6,
   "id": "6f17d1b7",
   "metadata": {},
   "outputs": [
    {
     "data": {
      "text/plain": [
       "(7, 5.0)"
      ]
     },
     "execution_count": 6,
     "metadata": {},
     "output_type": "execute_result"
    }
   ],
   "source": [
    "a,b"
   ]
  },
  {
   "cell_type": "markdown",
   "id": "a4e9723a",
   "metadata": {},
   "source": [
    "3.\tWrite a Python program to find the area of a triangle?"
   ]
  },
  {
   "cell_type": "code",
   "execution_count": 7,
   "id": "e619e3c8",
   "metadata": {},
   "outputs": [
    {
     "name": "stdout",
     "output_type": "stream",
     "text": [
      "Length of a triangle = 20\n",
      "Breadth of a triangle = 10\n",
      "200\n"
     ]
    }
   ],
   "source": [
    "l=int(input(\"Length of a triangle = \" ))\n",
    "b=int(input(\"Breadth of a triangle = \" ))\n",
    "Area=l*b\n",
    "print(Area)"
   ]
  },
  {
   "cell_type": "markdown",
   "id": "07e26c4f",
   "metadata": {},
   "source": [
    "4.\tWrite a Python program to swap two variables?"
   ]
  },
  {
   "cell_type": "code",
   "execution_count": 13,
   "id": "b43bbef2",
   "metadata": {},
   "outputs": [
    {
     "name": "stdout",
     "output_type": "stream",
     "text": [
      "The value of x is  5 \n",
      "The value of y is  10\n"
     ]
    }
   ],
   "source": [
    "x=10\n",
    "y=5\n",
    "x=x+y\n",
    "y=x-y\n",
    "x=x-y\n",
    "print(\"The value of x is \",x,\"\\n\" \"The value of y is \",y)"
   ]
  },
  {
   "cell_type": "markdown",
   "id": "319a003e",
   "metadata": {},
   "source": [
    "5.\tWrite a Python program to generate a random number?"
   ]
  },
  {
   "cell_type": "code",
   "execution_count": 7,
   "id": "2d398d2a",
   "metadata": {},
   "outputs": [
    {
     "data": {
      "text/plain": [
       "6"
      ]
     },
     "execution_count": 7,
     "metadata": {},
     "output_type": "execute_result"
    }
   ],
   "source": [
    "import random\n",
    "random.randint(3,6)"
   ]
  },
  {
   "cell_type": "code",
   "execution_count": null,
   "id": "292ec442",
   "metadata": {},
   "outputs": [],
   "source": []
  },
  {
   "cell_type": "code",
   "execution_count": null,
   "id": "4ad51b0a",
   "metadata": {},
   "outputs": [],
   "source": []
  },
  {
   "cell_type": "code",
   "execution_count": null,
   "id": "8ac5623c",
   "metadata": {},
   "outputs": [],
   "source": []
  },
  {
   "cell_type": "code",
   "execution_count": null,
   "id": "a9a3c192",
   "metadata": {},
   "outputs": [],
   "source": []
  },
  {
   "cell_type": "code",
   "execution_count": null,
   "id": "f801058e",
   "metadata": {},
   "outputs": [],
   "source": []
  },
  {
   "cell_type": "code",
   "execution_count": null,
   "id": "5ae61dfe",
   "metadata": {},
   "outputs": [],
   "source": []
  },
  {
   "cell_type": "code",
   "execution_count": null,
   "id": "abbc41b1",
   "metadata": {},
   "outputs": [],
   "source": []
  }
 ],
 "metadata": {
  "kernelspec": {
   "display_name": "Python 3 (ipykernel)",
   "language": "python",
   "name": "python3"
  },
  "language_info": {
   "codemirror_mode": {
    "name": "ipython",
    "version": 3
   },
   "file_extension": ".py",
   "mimetype": "text/x-python",
   "name": "python",
   "nbconvert_exporter": "python",
   "pygments_lexer": "ipython3",
   "version": "3.9.7"
  }
 },
 "nbformat": 4,
 "nbformat_minor": 5
}
