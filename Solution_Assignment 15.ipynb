{
 "cells": [
  {
   "cell_type": "markdown",
   "id": "5a77a579",
   "metadata": {},
   "source": [
    "# Assignment 15"
   ]
  },
  {
   "cell_type": "markdown",
   "id": "c52c461f",
   "metadata": {},
   "source": [
    "1. How many seconds are in an hour? Use the interactive interpreter as a calculator and multiply the number of seconds in a minute (60) by the number of minutes in an hour (also 60)."
   ]
  },
  {
   "cell_type": "code",
   "execution_count": 1,
   "id": "13089023",
   "metadata": {},
   "outputs": [
    {
     "data": {
      "text/plain": [
       "3600"
      ]
     },
     "execution_count": 1,
     "metadata": {},
     "output_type": "execute_result"
    }
   ],
   "source": [
    "60 * 60"
   ]
  },
  {
   "cell_type": "markdown",
   "id": "5edf984f",
   "metadata": {},
   "source": [
    "Assign the result from the previous task (seconds in an hour) to a variable called seconds_per_hour."
   ]
  },
  {
   "cell_type": "code",
   "execution_count": 2,
   "id": "fb5ea240",
   "metadata": {},
   "outputs": [],
   "source": [
    "seconds_per_hour=3600"
   ]
  },
  {
   "cell_type": "markdown",
   "id": "732bf54f",
   "metadata": {},
   "source": [
    "How many seconds do you think there are in a day? Make use of the variables seconds per hour and minutes per hour."
   ]
  },
  {
   "cell_type": "code",
   "execution_count": 9,
   "id": "58d7e4f0",
   "metadata": {},
   "outputs": [
    {
     "data": {
      "text/plain": [
       "86400"
      ]
     },
     "execution_count": 9,
     "metadata": {},
     "output_type": "execute_result"
    }
   ],
   "source": [
    "seconds_per_hour * 24"
   ]
  },
  {
   "cell_type": "code",
   "execution_count": 11,
   "id": "762e7f7b",
   "metadata": {},
   "outputs": [
    {
     "data": {
      "text/plain": [
       "1440"
      ]
     },
     "execution_count": 11,
     "metadata": {},
     "output_type": "execute_result"
    }
   ],
   "source": [
    "minutes_per_hour=60\n",
    "minutes_per_day= minutes_per_hour * 24\n",
    "minutes_per_day"
   ]
  },
  {
   "cell_type": "markdown",
   "id": "024929e1",
   "metadata": {},
   "source": [
    "Calculate seconds per day again, but this time save the result in a variable called seconds_per_day"
   ]
  },
  {
   "cell_type": "code",
   "execution_count": 12,
   "id": "7360fec6",
   "metadata": {},
   "outputs": [
    {
     "data": {
      "text/plain": [
       "86400"
      ]
     },
     "execution_count": 12,
     "metadata": {},
     "output_type": "execute_result"
    }
   ],
   "source": [
    "seconds_per_day=seconds_per_hour * 24\n",
    "seconds_per_day"
   ]
  },
  {
   "cell_type": "markdown",
   "id": "89c78353",
   "metadata": {},
   "source": [
    "Divide seconds_per_day by seconds_per_hour. Use floating-point (/) division."
   ]
  },
  {
   "cell_type": "code",
   "execution_count": 13,
   "id": "33933045",
   "metadata": {},
   "outputs": [
    {
     "data": {
      "text/plain": [
       "24.0"
      ]
     },
     "execution_count": 13,
     "metadata": {},
     "output_type": "execute_result"
    }
   ],
   "source": [
    "seconds_per_day / seconds_per_hour"
   ]
  },
  {
   "cell_type": "markdown",
   "id": "e7e5673d",
   "metadata": {},
   "source": [
    "Divide seconds_per_day by seconds_per_hour, using integer (//) division. Did this number agree with the floating-point value from the previous question, aside from the final .0?"
   ]
  },
  {
   "cell_type": "code",
   "execution_count": 15,
   "id": "a1e538c1",
   "metadata": {},
   "outputs": [
    {
     "data": {
      "text/plain": [
       "24"
      ]
     },
     "execution_count": 15,
     "metadata": {},
     "output_type": "execute_result"
    }
   ],
   "source": [
    "seconds_per_day // seconds_per_hour   #Yes, agree"
   ]
  },
  {
   "cell_type": "markdown",
   "id": "99f418c1",
   "metadata": {},
   "source": [
    "Write a generator, genPrimes, that returns the sequence of prime numbers on successive calls to its next() method: 2, 3, 5, 7, 11, ..."
   ]
  },
  {
   "cell_type": "code",
   "execution_count": 16,
   "id": "74da462a",
   "metadata": {},
   "outputs": [],
   "source": [
    "def genPrimes():\n",
    "    primes = []   # primes generated so far\n",
    "    last = 1      # last number tried\n",
    "    while True:\n",
    "        last += 1\n",
    "        for p in primes:\n",
    "            if last % p == 0:\n",
    "                break\n",
    "        else:\n",
    "            primes.append(last)\n",
    "            yield last\n",
    "\n",
    "p = genPrimes()"
   ]
  },
  {
   "cell_type": "code",
   "execution_count": 17,
   "id": "bf55a9a9",
   "metadata": {},
   "outputs": [
    {
     "data": {
      "text/plain": [
       "<generator object genPrimes at 0x7f9ad37c93c0>"
      ]
     },
     "execution_count": 17,
     "metadata": {},
     "output_type": "execute_result"
    }
   ],
   "source": [
    "p"
   ]
  },
  {
   "cell_type": "code",
   "execution_count": null,
   "id": "d74f64eb",
   "metadata": {},
   "outputs": [],
   "source": []
  }
 ],
 "metadata": {
  "kernelspec": {
   "display_name": "Python 3 (ipykernel)",
   "language": "python",
   "name": "python3"
  },
  "language_info": {
   "codemirror_mode": {
    "name": "ipython",
    "version": 3
   },
   "file_extension": ".py",
   "mimetype": "text/x-python",
   "name": "python",
   "nbconvert_exporter": "python",
   "pygments_lexer": "ipython3",
   "version": "3.9.7"
  }
 },
 "nbformat": 4,
 "nbformat_minor": 5
}
