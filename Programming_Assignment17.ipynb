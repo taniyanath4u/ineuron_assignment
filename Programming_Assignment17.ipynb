{
 "cells": [
  {
   "cell_type": "markdown",
   "id": "795c3b8e",
   "metadata": {},
   "source": [
    "### Question1. \n",
    "Create a function that takes three arguments a, b, c and returns the sum of the\n",
    "numbers that are evenly divided by c from the range a, b inclusive."
   ]
  },
  {
   "cell_type": "code",
   "execution_count": 2,
   "id": "98f3af3e",
   "metadata": {},
   "outputs": [
    {
     "name": "stdout",
     "output_type": "stream",
     "text": [
      "30\n"
     ]
    }
   ],
   "source": [
    "def sumDivisibles(A, B, M):\n",
    " \n",
    "    sum = 0\n",
    " \n",
    "    for i in range(A, B + 1):\n",
    " \n",
    "        if (i % M == 0):\n",
    "            sum += i\n",
    " \n",
    "    return sum\n",
    " \n",
    "# Driver code\n",
    "if __name__==\"__main__\":\n",
    "     \n",
    "    A = 1\n",
    "    B = 10\n",
    "    M = 2\n",
    "    \n",
    "print(sumDivisibles(A, B, M))"
   ]
  },
  {
   "cell_type": "markdown",
   "id": "0b69f4ce",
   "metadata": {},
   "source": [
    "### Question2. \n",
    "Create a function that returns True if a given inequality expression is correct and\n",
    "False otherwise."
   ]
  },
  {
   "cell_type": "code",
   "execution_count": 4,
   "id": "42b1c57b",
   "metadata": {},
   "outputs": [
    {
     "name": "stdout",
     "output_type": "stream",
     "text": [
      "True\n",
      "False\n",
      "True\n"
     ]
    }
   ],
   "source": [
    "def check(s):\n",
    "    regex=eval(s)\n",
    "    if regex:\n",
    "        return True\n",
    "    else:\n",
    "        return False \n",
    "# printing result \n",
    "print(check(\"3 < 7 < 11\"))\n",
    "print(check(\"13 > 44 > 33 > 1\"))\n",
    "print(check(\"1 < 2 < 6 < 9 > 3\"))\n"
   ]
  },
  {
   "cell_type": "markdown",
   "id": "9dbf9614",
   "metadata": {},
   "source": [
    "### Question3. \n",
    "Create a function that replaces all the vowels in a string with a specified character."
   ]
  },
  {
   "cell_type": "code",
   "execution_count": 5,
   "id": "c21875b3",
   "metadata": {},
   "outputs": [
    {
     "name": "stdout",
     "output_type": "stream",
     "text": [
      "Given String: Minnie Mouse\n",
      "Given Specified Character: #\n",
      "After replacing vowels with the specified character: M#nn## M##s#\n"
     ]
    }
   ],
   "source": [
    "def replaceVowelsWithK(test_str, K):\n",
    " \n",
    "    vowels_list = ['A', 'E', 'I', 'O', 'U', 'a', 'e', 'i', 'o', 'u']\n",
    "\n",
    "    new_string = []\n",
    "\n",
    "    string_list = list(test_str)\n",
    " \n",
    "    for char in string_list:\n",
    " \n",
    "        for char2 in vowels_list:\n",
    " \n",
    "            if char == char2:\n",
    "\n",
    "                new_string.append(K)\n",
    "                break\n",
    " \n",
    "        else:\n",
    "            new_string.append(char)\n",
    "\n",
    "    return(''.join(new_string))\n",
    "\n",
    "\n",
    "input_str = \"Minnie Mouse\"\n",
    "\n",
    "K = \"#\"\n",
    "\n",
    "print(\"Given String:\", input_str)\n",
    "print(\"Given Specified Character:\", K)\n",
    "\n",
    "print(\"After replacing vowels with the specified character:\",\n",
    "      replaceVowelsWithK(input_str, K))\n",
    " "
   ]
  },
  {
   "cell_type": "markdown",
   "id": "2ec885c5",
   "metadata": {},
   "source": [
    "### Question4.\n",
    "Write a function that calculates the factorial of a number recursively."
   ]
  },
  {
   "cell_type": "code",
   "execution_count": 7,
   "id": "2fb90d8e",
   "metadata": {},
   "outputs": [
    {
     "name": "stdout",
     "output_type": "stream",
     "text": [
      "The factorial of 5 is 120\n"
     ]
    }
   ],
   "source": [
    "def recur_factorial(n):\n",
    "   if n == 1:\n",
    "       return n\n",
    "   else:\n",
    "       return n*recur_factorial(n-1)\n",
    "\n",
    "num = 5\n",
    "\n",
    "# check if the number is negative\n",
    "if num < 0:\n",
    "   print(\"Sorry, factorial does not exist for negative numbers\")\n",
    "elif num == 0:\n",
    "   print(\"The factorial of 0 is 1\")\n",
    "else:\n",
    "   print(\"The factorial of\", num, \"is\", recur_factorial(num))"
   ]
  },
  {
   "cell_type": "markdown",
   "id": "d741c2b4",
   "metadata": {},
   "source": [
    "### Question 5\n",
    "Hamming distance is the number of characters that differ between two strings.\n",
    "Create a function that computes the hamming distance between two strings."
   ]
  },
  {
   "cell_type": "code",
   "execution_count": 8,
   "id": "55bae753",
   "metadata": {},
   "outputs": [
    {
     "name": "stdout",
     "output_type": "stream",
     "text": [
      "5\n"
     ]
    }
   ],
   "source": [
    "def hammingDist(str1, str2):\n",
    "    i = 0\n",
    "    count = 0\n",
    " \n",
    "    while(i < len(str1)):\n",
    "        if(str1[i] != str2[i]):\n",
    "            count += 1\n",
    "        i += 1\n",
    "    return count\n",
    " \n",
    "str1 = \"abcde\"\n",
    "str2 = \"bcdef\"\n",
    "\n",
    "print(hammingDist(str1, str2))"
   ]
  },
  {
   "cell_type": "code",
   "execution_count": null,
   "id": "916671cc",
   "metadata": {},
   "outputs": [],
   "source": []
  }
 ],
 "metadata": {
  "kernelspec": {
   "display_name": "Python 3 (ipykernel)",
   "language": "python",
   "name": "python3"
  },
  "language_info": {
   "codemirror_mode": {
    "name": "ipython",
    "version": 3
   },
   "file_extension": ".py",
   "mimetype": "text/x-python",
   "name": "python",
   "nbconvert_exporter": "python",
   "pygments_lexer": "ipython3",
   "version": "3.9.7"
  }
 },
 "nbformat": 4,
 "nbformat_minor": 5
}
