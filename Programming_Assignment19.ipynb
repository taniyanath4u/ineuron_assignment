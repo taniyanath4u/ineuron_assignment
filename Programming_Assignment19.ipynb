{
 "cells": [
  {
   "cell_type": "markdown",
   "id": "1e60f3e8",
   "metadata": {},
   "source": [
    "### Question1\n",
    "Create a function that takes a string and returns a string in which each character is repeated\n",
    "once."
   ]
  },
  {
   "cell_type": "code",
   "execution_count": 6,
   "id": "556f9ea7",
   "metadata": {},
   "outputs": [],
   "source": [
    "def string(text):\n",
    "    j=len(text)\n",
    "    i=0\n",
    "    res=[]\n",
    "    while i<j :\n",
    "        res.append(text[i]*2)\n",
    "        i = i+1\n",
    "        result = \"\".join(res)\n",
    "        print(result)"
   ]
  },
  {
   "cell_type": "code",
   "execution_count": 7,
   "id": "90ba6671",
   "metadata": {},
   "outputs": [
    {
     "name": "stdout",
     "output_type": "stream",
     "text": [
      "ss\n",
      "sstt\n",
      "ssttrr\n",
      "ssttrrii\n",
      "ssttrriinn\n",
      "ssttrriinngg\n"
     ]
    }
   ],
   "source": [
    "string('string')"
   ]
  },
  {
   "cell_type": "markdown",
   "id": "86d66582",
   "metadata": {},
   "source": [
    "### Question2\n",
    "Create a function that reverses a boolean value and returns the string &quot;boolean expected&quot;\n",
    "if another variable type is given."
   ]
  },
  {
   "cell_type": "code",
   "execution_count": 9,
   "id": "767273a7",
   "metadata": {},
   "outputs": [
    {
     "name": "stdout",
     "output_type": "stream",
     "text": [
      "False\n",
      "True\n",
      "boolean expected\n",
      "boolean expected\n"
     ]
    }
   ],
   "source": [
    "def reverse(arg):\n",
    "    if isinstance(arg, bool):\n",
    "        return not arg\n",
    "    else:\n",
    "        return('boolean expected')\n",
    "\n",
    "def reverse(arg=None):\n",
    "    return not arg if type(arg) == bool else \"boolean expected\"\n",
    "\n",
    "print(reverse(True)) \n",
    "print(reverse(False)) \n",
    "print(reverse(0)) \n",
    "print(reverse(None)) "
   ]
  },
  {
   "cell_type": "markdown",
   "id": "79d2d643",
   "metadata": {},
   "source": [
    "### Question3\n",
    "Create a function that returns the thickness (in meters) of a piece of paper after folding it n\n",
    "number of times. The paper starts off with a thickness of 0.5mm."
   ]
  },
  {
   "cell_type": "code",
   "execution_count": 12,
   "id": "bf1d80e4",
   "metadata": {},
   "outputs": [],
   "source": [
    "def num_layers(a):\n",
    "    res = 0.5\n",
    "    for _ in range(a):\n",
    "        res *= 2\n",
    "    # return res for mm\n",
    "    return res / 1000 # for meters"
   ]
  },
  {
   "cell_type": "code",
   "execution_count": 13,
   "id": "9f992e19",
   "metadata": {},
   "outputs": [
    {
     "data": {
      "text/plain": [
       "1048.576"
      ]
     },
     "execution_count": 13,
     "metadata": {},
     "output_type": "execute_result"
    }
   ],
   "source": [
    "num_layers(21)"
   ]
  },
  {
   "cell_type": "markdown",
   "id": "61f04cc0",
   "metadata": {},
   "source": [
    "### Question4\n",
    "Create a function that takes a single string as argument and returns an ordered list containing\n",
    "the indices of all capital letters in the string."
   ]
  },
  {
   "cell_type": "code",
   "execution_count": 15,
   "id": "ab5f9e9b",
   "metadata": {},
   "outputs": [
    {
     "name": "stdout",
     "output_type": "stream",
     "text": [
      "The original string is : STRIKE\n",
      "Uppercase elements indices : [0, 1, 2, 3, 4, 5]\n"
     ]
    }
   ],
   "source": [
    "test_str = 'STRIKE'\n",
    "\n",
    "print(\"The original string is : \" + str(test_str))\n",
    "\n",
    "res = [idx for idx in range(len(test_str)) if test_str[idx].isupper()]\n",
    "\n",
    "print(\"Uppercase elements indices : \" + str(res)) "
   ]
  },
  {
   "cell_type": "markdown",
   "id": "15d6a7b8",
   "metadata": {},
   "source": [
    "### Question5\n",
    "Using list comprehensions, create a function that finds all even numbers from 1 to the given\n",
    "number."
   ]
  },
  {
   "cell_type": "code",
   "execution_count": 16,
   "id": "6749d250",
   "metadata": {},
   "outputs": [
    {
     "name": "stdout",
     "output_type": "stream",
     "text": [
      "Enter the end of range: 8\n",
      "2 4 6 8 "
     ]
    }
   ],
   "source": [
    "start = 1\n",
    "end = int(input(\"Enter the end of range: \"))\n",
    "\n",
    "for num in range(start, end + 1):\n",
    "  \n",
    "    if num % 2 == 0:\n",
    "        print(num, end = \" \")"
   ]
  },
  {
   "cell_type": "code",
   "execution_count": null,
   "id": "1096eab1",
   "metadata": {},
   "outputs": [],
   "source": []
  }
 ],
 "metadata": {
  "kernelspec": {
   "display_name": "Python 3 (ipykernel)",
   "language": "python",
   "name": "python3"
  },
  "language_info": {
   "codemirror_mode": {
    "name": "ipython",
    "version": 3
   },
   "file_extension": ".py",
   "mimetype": "text/x-python",
   "name": "python",
   "nbconvert_exporter": "python",
   "pygments_lexer": "ipython3",
   "version": "3.9.7"
  }
 },
 "nbformat": 4,
 "nbformat_minor": 5
}
